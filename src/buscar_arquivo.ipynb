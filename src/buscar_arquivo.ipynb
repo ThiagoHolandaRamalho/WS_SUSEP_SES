{
 "cells": [
  {
   "cell_type": "code",
   "execution_count": 60,
   "metadata": {},
   "outputs": [],
   "source": [
    "import os\n",
    "import time\n",
    "\n",
    "from selenium import webdriver\n",
    "from selenium.webdriver.chrome.service import Service\n",
    "from webdriver_manager.chrome import ChromeDriverManager\n",
    "from selenium.webdriver.common.by import By\n",
    "from selenium.webdriver.common.keys import Keys\n",
    "from selenium.webdriver.support.ui import Select\n",
    "from selenium.webdriver.support.ui import WebDriverWait\n",
    "from selenium.webdriver.support import expected_conditions as EC\n",
    "from selenium.common.exceptions import TimeoutException\n",
    "from datetime import date\n",
    "import sys\n",
    "from datetime import datetime , timedelta, date\n",
    "import time\n",
    "from datetime import date\n",
    "from dateutil.relativedelta import relativedelta\n",
    "from pathlib import Path\n",
    "from glob import glob \n",
    "import shutil"
   ]
  },
  {
   "cell_type": "code",
   "execution_count": null,
   "metadata": {},
   "outputs": [],
   "source": []
  },
  {
   "cell_type": "code",
   "execution_count": 73,
   "metadata": {},
   "outputs": [],
   "source": [
    "PATH_PASTA_ARQUIVOS = r\"C:\\Users\\thiag\\Documents\\BASE_SUSEP\\Download_arquivo\"\n",
    "PATH_PASTA_ARQUIVOS_CSV = r\"C:\\Users\\thiag\\Documents\\BASE_SUSEP\\Arquivos_CSV\"\n",
    "QDE_MAX_SEGUNDOS_DOWNLOAD = 600 \n",
    "\n"
   ]
  },
  {
   "cell_type": "code",
   "execution_count": 61,
   "metadata": {},
   "outputs": [],
   "source": [
    "def criar_pasta(path):\n",
    "    try:\n",
    "        shutil.rmtree(path,ignore_errors=True)\n",
    "    except:\n",
    "        ...\n",
    "\n",
    "    os.makedirs(path,exist_ok=True)"
   ]
  },
  {
   "cell_type": "code",
   "execution_count": null,
   "metadata": {},
   "outputs": [],
   "source": [
    "def buscar_arquivo_na_susep(path:Path,qde_max_segundos_download:int):\n",
    "    check_download = False\n",
    "    qde_max_segundos = qde_max_segundos_download\n",
    "    criar_pasta(PATH_PASTA_ARQUIVOS)\n",
    "    options = webdriver.ChromeOptions()\n",
    "    options.add_experimental_option(\"prefs\", {\n",
    "        \"download.default_directory\": path,\n",
    "        \"download.prompt_for_download\": False,\n",
    "        \"download.directory_upgrade\": True,\n",
    "        \"safebrowsing.enabled\": True\n",
    "    })\n",
    "    options.add_argument(\"--headless\")\n",
    "\n",
    "    servico = Service(ChromeDriverManager().install())\n",
    "    driver = webdriver.Chrome(service=servico,options=options)\n",
    "    driver.get(r'https://www2.susep.gov.br/menuestatistica/ses/principal.aspx')\n",
    "\n",
    "    time.sleep(5)\n",
    "\n",
    "    valor = driver.find_element(By.ID,'GEEST')\n",
    "    if valor:\n",
    "        driver.get(r\"https://www2.susep.gov.br/redarq.asp?arq=BaseCompleta%2ezip\")\n",
    "    else: \n",
    "        print('link não encontrado')\n",
    "        driver.close()\n",
    "        return\n",
    "    time.sleep(5)\n",
    "    segundos = 0\n",
    "    \n",
    "    while True:\n",
    "        if segundos % 10 == 0:\n",
    "                print('Efetuando Download')\n",
    "        \n",
    "        segundos += 1\n",
    "        if segundos > qde_max_segundos: \n",
    "            print('Excedeu o tempo limite de download')\n",
    "            driver.close()\n",
    "            return check_download\n",
    "        \n",
    "        arquivo = glob(os.path.join(path,'*.crdownload'))\n",
    "        if arquivo:\n",
    "            time.sleep(1)\n",
    "            continue\n",
    "        break\n",
    "    \n",
    "    print('Download Concluído')\n",
    "    check_download = 1\n",
    "    driver.close()\n",
    "    check_download = True\n",
    "    return check_download"
   ]
  },
  {
   "cell_type": "code",
   "execution_count": 78,
   "metadata": {},
   "outputs": [
    {
     "name": "stdout",
     "output_type": "stream",
     "text": [
      "Efetuando Download\n",
      "Efetuando Download\n",
      "Efetuando Download\n",
      "Efetuando Download\n",
      "Efetuando Download\n",
      "Efetuando Download\n",
      "Efetuando Download\n",
      "Efetuando Download\n",
      "Download Concluído\n"
     ]
    }
   ],
   "source": [
    "\n",
    "check_download = buscar_arquivo_na_susep(path=PATH_PASTA_ARQUIVOS,\n",
    "                        qde_max_segundos_download=QDE_MAX_SEGUNDOS_DOWNLOAD)"
   ]
  },
  {
   "cell_type": "code",
   "execution_count": 87,
   "metadata": {},
   "outputs": [],
   "source": [
    "import zipfile"
   ]
  },
  {
   "cell_type": "code",
   "execution_count": 94,
   "metadata": {},
   "outputs": [],
   "source": [
    "def descompactar_zip(path_origem,check_sucesso:bool = False):\n",
    "    arquivos_csv =  glob(os.path.join(path_origem,'*.csv'))\n",
    "    for arq in arquivos_csv:\n",
    "        os.remove(arq)\n",
    "    time.sleep(5)\n",
    "    if check_sucesso:\n",
    "        arquivos = glob(os.path.join(path_origem,'*.zip'))\n",
    "\n",
    "        for arquivo in arquivos:\n",
    "            if arquivo.endswith('.zip'):\n",
    "                caminho_completo = os.path.join(path_origem, arquivo)\n",
    "\n",
    "                with zipfile.ZipFile(caminho_completo, 'r') as zip_ref:\n",
    "                    zip_ref.extractall(path_origem)\n",
    "\n",
    "    else:\n",
    "        print('Erro')"
   ]
  },
  {
   "cell_type": "code",
   "execution_count": 95,
   "metadata": {},
   "outputs": [],
   "source": [
    "descompactar_zip(path_origem=PATH_PASTA_ARQUIVOS,check_sucesso=check_download)"
   ]
  },
  {
   "cell_type": "code",
   "execution_count": null,
   "metadata": {},
   "outputs": [],
   "source": []
  },
  {
   "cell_type": "code",
   "execution_count": null,
   "metadata": {},
   "outputs": [],
   "source": []
  }
 ],
 "metadata": {
  "kernelspec": {
   "display_name": ".venv",
   "language": "python",
   "name": "python3"
  },
  "language_info": {
   "codemirror_mode": {
    "name": "ipython",
    "version": 3
   },
   "file_extension": ".py",
   "mimetype": "text/x-python",
   "name": "python",
   "nbconvert_exporter": "python",
   "pygments_lexer": "ipython3",
   "version": "3.12.1"
  }
 },
 "nbformat": 4,
 "nbformat_minor": 2
}
