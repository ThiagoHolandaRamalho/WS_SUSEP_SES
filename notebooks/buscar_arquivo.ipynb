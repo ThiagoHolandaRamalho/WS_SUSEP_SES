{
 "cells": [
  {
   "cell_type": "code",
   "execution_count": 2,
   "metadata": {},
   "outputs": [],
   "source": [
    "import os\n",
    "import time\n",
    "\n",
    "from selenium import webdriver\n",
    "from selenium.webdriver.chrome.service import Service\n",
    "from webdriver_manager.chrome import ChromeDriverManager\n",
    "from selenium.webdriver.common.by import By\n",
    "from selenium.webdriver.common.keys import Keys\n",
    "from selenium.webdriver.support.ui import Select\n",
    "from selenium.webdriver.support.ui import WebDriverWait\n",
    "from selenium.webdriver.support import expected_conditions as EC\n",
    "from selenium.common.exceptions import TimeoutException\n",
    "from datetime import date\n",
    "import sys\n",
    "from datetime import datetime , timedelta, date\n",
    "import time\n",
    "from datetime import date\n",
    "from dateutil.relativedelta import relativedelta\n",
    "from pathlib import Path\n",
    "from glob import glob \n",
    "import shutil\n",
    "import zipfile\n",
    "import pandas as pd\n",
    "import schemas\n",
    "\n",
    "from loguru import logger"
   ]
  },
  {
   "cell_type": "code",
   "execution_count": null,
   "metadata": {},
   "outputs": [],
   "source": []
  },
  {
   "cell_type": "code",
   "execution_count": 2,
   "metadata": {},
   "outputs": [],
   "source": [
    "PATH_BASE = r\"C:\\Users\\thiag\\Documents\\BASE_SUSEP\"\n",
    "os.makedirs(PATH_BASE,exist_ok=True)\n",
    "time.sleep(1)\n",
    "logger.add(os.path.join(PATH_BASE,'LOGS_EXTRACAO_SUSEP.log'),level='INFO')\n",
    "logger.add(os.path.join(PATH_BASE,'LOGS_EXTRACAO_SUSEP_ERROS.log'),level='ERROR')\n",
    "\n",
    "\n",
    "PATH_PASTA_ARQUIVOS = os.path.join(PATH_BASE,\"Download_arquivo\")\n",
    "PATH_PASTA_ARQUIVOS_CSV = os.path.join(PATH_BASE,\"Arquivos_CSV\")\n",
    "QDE_MAX_SEGUNDOS_DOWNLOAD = 600 \n",
    "\n",
    "\n"
   ]
  },
  {
   "cell_type": "code",
   "execution_count": 3,
   "metadata": {},
   "outputs": [],
   "source": [
    "def criar_pasta(path):\n",
    "    '''\n",
    "    Objetivo da função: Apagar e recriar a pasta recebida no argumento Path\n",
    "\n",
    "    '''\n",
    "\n",
    "    try:\n",
    "        shutil.rmtree(path,ignore_errors=True)\n",
    "    except:\n",
    "        ...\n",
    "\n",
    "    os.makedirs(path,exist_ok=True)"
   ]
  },
  {
   "cell_type": "code",
   "execution_count": null,
   "metadata": {},
   "outputs": [],
   "source": [
    "def buscar_arquivo_na_susep(path:Path ,qde_max_segundos_download:int) -> bool:\n",
    "    '''\n",
    "    Objetivo da função: Acessa o site da Susep e efetua o download da base ZIP\n",
    "    Args:\n",
    "        path (Path): Caminho onde iremos salvar o download do arquivo\n",
    "        qde_max_segundos_download (int): Tempo máximo em segundos que o sistema irá esperar o download ser concluído, ao atingor o limite o processo será abortado  \n",
    "\n",
    "    Returns:\n",
    "        bool: Se o download for concluído com succeso retornará True caso contrário False \n",
    "        \n",
    "    '''\n",
    "    logger.info('Efetuando download do Zip')\n",
    "\n",
    "    try:\n",
    "        check_download = False\n",
    "        qde_max_segundos = qde_max_segundos_download\n",
    "        criar_pasta(PATH_PASTA_ARQUIVOS)\n",
    "        options = webdriver.ChromeOptions()\n",
    "        options.add_experimental_option(\"prefs\", {\n",
    "            \"download.default_directory\": path,\n",
    "            \"download.prompt_for_download\": False,\n",
    "            \"download.directory_upgrade\": True,\n",
    "            \"safebrowsing.enabled\": True\n",
    "        })\n",
    "        options.add_argument(\"--headless\")\n",
    "\n",
    "        servico = Service(ChromeDriverManager().install())\n",
    "        driver = webdriver.Chrome(service=servico,options=options)\n",
    "    except Exception as e:\n",
    "         logger.error(f'Erro na inicialização do selenium : {e}')\n",
    "         \n",
    "    driver.get(r'https://www2.susep.gov.br/menuestatistica/ses/principal.aspx')\n",
    "\n",
    "    time.sleep(5)\n",
    "\n",
    "    id = driver.find_element(By.ID,'GEEST')\n",
    "    if id: \n",
    "        try:\n",
    "            tag_a = id.find_element(By.TAG_NAME,'a')\n",
    "            link = tag_a.get_attribute('href')\n",
    "        except Exception as e:\n",
    "            logger.error(f'Obtendo link do download {e}')\n",
    "    \n",
    "        if link:\n",
    "            driver.get(link)\n",
    "            logger.info('Efetuando download do Zip')\n",
    "        \n",
    "        else: \n",
    "            logger.error('Link não encontrado')\n",
    "            print('link não encontrado')\n",
    "            driver.close()\n",
    "            return\n",
    "\n",
    "    else: \n",
    "        logger.error('Id do botão não localizado')\n",
    "        print('Id do botão não localizado')\n",
    "        driver.close()\n",
    "        return\n",
    "        \n",
    "    time.sleep(5)\n",
    "    segundos = 0\n",
    "    \n",
    "    while True:\n",
    "        if segundos % 10 == 0:\n",
    "                print('Efetuando Download')\n",
    "        \n",
    "        segundos += 1\n",
    "        if segundos > qde_max_segundos: \n",
    "            logger.error('Excedeu o tempo limite de download')\n",
    "            print('Excedeu o tempo limite de download')\n",
    "            driver.close()\n",
    "            return check_download\n",
    "        \n",
    "        arquivo = glob(os.path.join(path,'*.crdownload'))\n",
    "        if arquivo:\n",
    "            time.sleep(1)\n",
    "            continue\n",
    "        break\n",
    "    \n",
    "    print('Download Concluído')\n",
    "    logger.info('Download Concluído')\n",
    "    driver.close()\n",
    "    check_download = True\n",
    "    return check_download"
   ]
  },
  {
   "cell_type": "code",
   "execution_count": 5,
   "metadata": {},
   "outputs": [
    {
     "name": "stderr",
     "output_type": "stream",
     "text": [
      "\u001b[32m2025-03-02 01:56:49.310\u001b[0m | \u001b[1mINFO    \u001b[0m | \u001b[36m__main__\u001b[0m:\u001b[36mbuscar_arquivo_na_susep\u001b[0m:\u001b[36m12\u001b[0m - \u001b[1mEfetuando download do Zip\u001b[0m\n",
      "\u001b[32m2025-03-02 01:56:59.684\u001b[0m | \u001b[1mINFO    \u001b[0m | \u001b[36m__main__\u001b[0m:\u001b[36mbuscar_arquivo_na_susep\u001b[0m:\u001b[36m39\u001b[0m - \u001b[1mEfetuando download do Zip\u001b[0m\n"
     ]
    },
    {
     "name": "stdout",
     "output_type": "stream",
     "text": [
      "Efetuando Download\n",
      "Efetuando Download\n",
      "Efetuando Download\n",
      "Efetuando Download\n",
      "Efetuando Download\n",
      "Efetuando Download\n",
      "Efetuando Download\n"
     ]
    },
    {
     "name": "stderr",
     "output_type": "stream",
     "text": [
      "\u001b[32m2025-03-02 01:58:08.757\u001b[0m | \u001b[1mINFO    \u001b[0m | \u001b[36m__main__\u001b[0m:\u001b[36mbuscar_arquivo_na_susep\u001b[0m:\u001b[36m66\u001b[0m - \u001b[1mDownload Concluído\u001b[0m\n"
     ]
    },
    {
     "name": "stdout",
     "output_type": "stream",
     "text": [
      "Download Concluído\n"
     ]
    }
   ],
   "source": [
    "\n",
    "check_download = buscar_arquivo_na_susep(path=PATH_PASTA_ARQUIVOS,\n",
    "                        qde_max_segundos_download=QDE_MAX_SEGUNDOS_DOWNLOAD)"
   ]
  },
  {
   "cell_type": "code",
   "execution_count": 6,
   "metadata": {},
   "outputs": [],
   "source": [
    "def descompactar_zip(path_origem,check_sucesso:bool = False) -> bool:\n",
    "    '''\n",
    "    Objetivo da função: Verifica se existe arquivos .zip e efetua a descompactação\n",
    "    Args:\n",
    "        path_origem (Path): Caminho onde iremos procurar os arquivos .zip\n",
    "        check_sucesso (int) : Essa váriavel é o retorno da função  \"buscar_arquivo_na_susep()\" , se tudo correu dentro do esperado ela terá o valor True e prosseguiremos com a descompactação \n",
    "\n",
    "    Returns:\n",
    "        bool: Se a descompactação for concluída com succeso retornará True caso contrário False \n",
    "        \n",
    "    '''\n",
    "    \n",
    "    try:\n",
    "        if check_sucesso:\n",
    "            arquivos_csv =  glob(os.path.join(path_origem,'*.csv'))\n",
    "            for arq in arquivos_csv:\n",
    "                os.remove(arq)\n",
    "\n",
    "        time.sleep(5)\n",
    "        if check_sucesso:\n",
    "            arquivos = glob(os.path.join(path_origem,'*.zip'))\n",
    "\n",
    "            for arquivo in arquivos:\n",
    "                if arquivo.endswith('.zip'):\n",
    "                    caminho_completo = os.path.join(path_origem, arquivo)\n",
    "\n",
    "                    with zipfile.ZipFile(caminho_completo, 'r') as zip_ref:\n",
    "                        zip_ref.extractall(path_origem)\n",
    "        check_zip =True\n",
    "        logger.info('Descompactação efetuada')\n",
    "    except Exception as e:\n",
    "        check_zip = False\n",
    "        logger.error(f'Erro na Descompactação {e}')\n",
    "    return check_zip"
   ]
  },
  {
   "cell_type": "code",
   "execution_count": 7,
   "metadata": {},
   "outputs": [
    {
     "name": "stderr",
     "output_type": "stream",
     "text": [
      "\u001b[32m2025-03-02 01:58:36.863\u001b[0m | \u001b[1mINFO    \u001b[0m | \u001b[36m__main__\u001b[0m:\u001b[36mdescompactar_zip\u001b[0m:\u001b[36m30\u001b[0m - \u001b[1mDescompactação efetuada\u001b[0m\n"
     ]
    }
   ],
   "source": [
    "check_zip = descompactar_zip(path_origem=PATH_PASTA_ARQUIVOS,check_sucesso=check_download)"
   ]
  },
  {
   "cell_type": "code",
   "execution_count": 8,
   "metadata": {},
   "outputs": [
    {
     "data": {
      "text/plain": [
       "<module 'schemas' from 'c:\\\\PROJETOS_PYTHON\\\\WS_SES_SUSEP\\\\src\\\\schemas.py'>"
      ]
     },
     "execution_count": 8,
     "metadata": {},
     "output_type": "execute_result"
    }
   ],
   "source": [
    "import importlib\n",
    "importlib.reload(schemas)"
   ]
  },
  {
   "cell_type": "code",
   "execution_count": 9,
   "metadata": {},
   "outputs": [],
   "source": [
    "def validar_schemas_obrigatorios(path:Path,check_sucesso_zip:bool = False):\n",
    "    '''  \n",
    "    Objetivo da função: Efetua a validação das estrutura dos arquivos csv\n",
    "    Args:\n",
    "        path_origem (Path): Caminho onde iremos procurar os arquivos .csv\n",
    "        check_sucesso_zip (int) : Essa váriavel é o retorno da função  \"descompactar_zip()\" , se tudo correu dentro do esperado ela terá o valor True e prosseguiremos com a validação \n",
    "\n",
    "    Returns:\n",
    "        bool: Se a validação for concluída com succeso retornará True caso contrário False\n",
    "    '''\n",
    "\n",
    "    check_validacao = True\n",
    "    encoding_utilizado = 'ISO-8859-1'\n",
    "    separador = ';'\n",
    "    decimal = ','\n",
    "    lazy = True\n",
    "\n",
    "    if check_sucesso_zip:\n",
    "\n",
    "        try:\n",
    "            print('Ses_cias')\n",
    "            schemas.SchemaSesCias.validate(pd.read_csv(os.path.join(path,\"Ses_cias.csv\"),encoding=encoding_utilizado,sep=separador),lazy=  lazy)\n",
    "            print('Ses_ramos')\n",
    "            schemas.SchemaSesRamos.validate(pd.read_csv(os.path.join(path,\"Ses_ramos.csv\"),encoding=encoding_utilizado,sep=separador),lazy=  lazy)\n",
    "            print('ses_gruposramos')\n",
    "            schemas.SchemaSesGrupoRamo(pd.read_csv(os.path.join(path,\"ses_gruposramos.csv\"),encoding=encoding_utilizado,sep=separador),lazy=  lazy)\n",
    "            print('Ses_seguros')\n",
    "            schemas.SchemaSesSeguros.validate(pd.read_csv(os.path.join(path,\"Ses_seguros.csv\"),encoding=encoding_utilizado,sep=separador,decimal=decimal),lazy=  lazy)\n",
    "            print('SES_UF2')\n",
    "            schemas.SesUf2.validate(pd.read_csv(os.path.join(path,\"SES_UF2.csv\"),encoding=encoding_utilizado,sep=separador,decimal=decimal),lazy=  lazy)\n",
    "            print('Ses_campos')\n",
    "            schemas.SchemaSesCampos.validate(pd.read_csv(os.path.join(path,\"Ses_campos.csv\"),encoding=encoding_utilizado,sep=separador),lazy=  lazy)\n",
    "            print('SES_Balanco')\n",
    "            schemas.SchemaSesBalanco.validate(pd.read_csv(os.path.join(path,\"SES_Balanco.csv\"),encoding=encoding_utilizado,sep=separador,decimal=decimal),lazy=  lazy)\n",
    "            print('Ses_Dados_Cap')\n",
    "            schemas.SchemaSesDadosCap.validate(pd.read_csv(os.path.join(path,\"Ses_Dados_Cap.csv\"),encoding=encoding_utilizado,sep=separador,decimal=decimal),lazy=  lazy)\n",
    "            print('ses_cap_uf')\n",
    "            schemas.SchemaSesCapUf.validate(pd.read_csv(os.path.join(path,\"ses_cap_uf.csv\"),encoding=encoding_utilizado,sep=separador,decimal=decimal),lazy=  lazy)\n",
    "            print('SES_ValoresMovRamos')\n",
    "            schemas.SchemaSesValoresMovRamos.validate(pd.read_csv(os.path.join(path,\"SES_ValoresMovRamos.csv\"),encoding=encoding_utilizado,sep=separador,decimal=decimal),lazy=  lazy)\n",
    "            print('ses_valoresresmovgrupos')\n",
    "            schemas.SchemaSesValoresResMovMovGrupos.validate(pd.read_csv(os.path.join(path,\"ses_valoresresmovgrupos.csv\"),encoding = encoding_utilizado, sep = separador , decimal=decimal ) ,lazy =  lazy)\n",
    "\n",
    "            print('Sucesso na validação')\n",
    "            logger.info(f'Schemas validados com sucesso')\n",
    "            return check_validacao\n",
    "        except Exception as e:\n",
    "            check_validacao = False\n",
    "            logger.error(f'Erro na validação dos Schemas {e}')\n",
    "            return  check_validacao"
   ]
  },
  {
   "cell_type": "code",
   "execution_count": 10,
   "metadata": {},
   "outputs": [
    {
     "name": "stdout",
     "output_type": "stream",
     "text": [
      "Ses_cias\n",
      "Ses_ramos\n",
      "ses_gruposramos\n",
      "Ses_seguros\n",
      "SES_UF2\n",
      "Ses_campos\n",
      "SES_Balanco\n",
      "Ses_Dados_Cap\n",
      "ses_cap_uf\n",
      "SES_ValoresMovRamos\n",
      "ses_valoresresmovgrupos\n"
     ]
    },
    {
     "name": "stderr",
     "output_type": "stream",
     "text": [
      "\u001b[32m2025-03-02 02:00:00.598\u001b[0m | \u001b[1mINFO    \u001b[0m | \u001b[36m__main__\u001b[0m:\u001b[36mvalidar_schemas_obrigatorios\u001b[0m:\u001b[36m45\u001b[0m - \u001b[1mSchemas validados com sucesso\u001b[0m\n"
     ]
    },
    {
     "name": "stdout",
     "output_type": "stream",
     "text": [
      "Sucesso na validação\n"
     ]
    }
   ],
   "source": [
    "check_validacao = validar_schemas_obrigatorios(PATH_PASTA_ARQUIVOS,check_zip)"
   ]
  },
  {
   "cell_type": "code",
   "execution_count": 11,
   "metadata": {},
   "outputs": [],
   "source": [
    "def mover_arquivos(path_origem,path_destino,check_validacao):\n",
    "    if check_validacao:\n",
    "        try:\n",
    "            criar_pasta(path_destino)\n",
    "            arquivos =  glob(os.path.join(path_origem,'*.csv'))\n",
    "            for arq in arquivos:\n",
    "                shutil.copy(arq,path_destino)\n",
    "            logger.info('Arquivos copiados com sucesso')\n",
    "            print('processo finalizado')\n",
    "        except Exception as e :\n",
    "            logger.error(f'Erro ao copiar os arquivos {e}')\n",
    "    "
   ]
  },
  {
   "cell_type": "code",
   "execution_count": 12,
   "metadata": {},
   "outputs": [
    {
     "name": "stderr",
     "output_type": "stream",
     "text": [
      "\u001b[32m2025-03-02 02:00:03.922\u001b[0m | \u001b[1mINFO    \u001b[0m | \u001b[36m__main__\u001b[0m:\u001b[36mmover_arquivos\u001b[0m:\u001b[36m8\u001b[0m - \u001b[1mArquivos copiados com sucesso\u001b[0m\n"
     ]
    },
    {
     "name": "stdout",
     "output_type": "stream",
     "text": [
      "processo finalizado\n"
     ]
    }
   ],
   "source": [
    "mover_arquivos(PATH_PASTA_ARQUIVOS,PATH_PASTA_ARQUIVOS_CSV,check_validacao)"
   ]
  },
  {
   "cell_type": "code",
   "execution_count": null,
   "metadata": {},
   "outputs": [],
   "source": [
    "try:\n",
    "    check_download = False\n",
    "    qde_max_segundos = 1000\n",
    "    options = webdriver.ChromeOptions()\n",
    "    options.add_experimental_option(\"prefs\", {\n",
    "        \"download.default_directory\": r\"C:\\Users\\thiag\\Downloads\",\n",
    "        \"download.prompt_for_download\": False,\n",
    "        \"download.directory_upgrade\": True,\n",
    "        \"safebrowsing.enabled\": True\n",
    "    })\n",
    "    #options.add_argument(\"--headless\")\n",
    "\n",
    "    servico = Service(ChromeDriverManager().install())\n",
    "    driver = webdriver.Chrome(service=servico,options=options)\n",
    "except Exception as e:\n",
    "        print(e)\n",
    "        #logger.error(f'Erro na inicialização do selenium : {e}')\n",
    "        ...\n",
    "driver.get(r'https://www2.susep.gov.br/menuestatistica/ses/principal.aspx')\n",
    "\n",
    "time.sleep(5)\n",
    "\n",
    "id = driver.find_element(By.ID,'GEEST')\n",
    "tag_a = id.find_element(By.TAG_NAME,'a')\n",
    "link = tag_a.get_attribute('href')"
   ]
  },
  {
   "cell_type": "code",
   "execution_count": null,
   "metadata": {},
   "outputs": [],
   "source": []
  },
  {
   "cell_type": "code",
   "execution_count": null,
   "metadata": {},
   "outputs": [],
   "source": [
    "link = tag_a.get_attribute('href')"
   ]
  },
  {
   "cell_type": "code",
   "execution_count": 13,
   "metadata": {},
   "outputs": [],
   "source": [
    "import pandas as pd"
   ]
  }
 ],
 "metadata": {
  "kernelspec": {
   "display_name": ".venv",
   "language": "python",
   "name": "python3"
  },
  "language_info": {
   "codemirror_mode": {
    "name": "ipython",
    "version": 3
   },
   "file_extension": ".py",
   "mimetype": "text/x-python",
   "name": "python",
   "nbconvert_exporter": "python",
   "pygments_lexer": "ipython3",
   "version": "3.12.1"
  }
 },
 "nbformat": 4,
 "nbformat_minor": 2
}
